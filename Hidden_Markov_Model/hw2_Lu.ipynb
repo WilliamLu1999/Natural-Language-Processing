{
 "cells": [
  {
   "cell_type": "markdown",
   "id": "25061884",
   "metadata": {},
   "source": [
    "## Hidden Markov Model\n",
    "##### Feb 4th 2023\n",
    "##### William Lu"
   ]
  },
  {
   "cell_type": "code",
   "execution_count": 1,
   "id": "781644be",
   "metadata": {},
   "outputs": [],
   "source": [
    "import pandas as pd\n",
    "import numpy as np\n",
    "import nltk\n",
    "import re\n",
    "import csv\n",
    "from bs4 import BeautifulSoup\n",
    "from _collections import defaultdict\n",
    "import json\n",
    "from sklearn.metrics import accuracy_score"
   ]
  },
  {
   "cell_type": "markdown",
   "id": "a80cd0ef",
   "metadata": {},
   "source": [
    "### Task 1: Vocabulary Creation"
   ]
  },
  {
   "cell_type": "code",
   "execution_count": 2,
   "id": "5be231c2",
   "metadata": {},
   "outputs": [
    {
     "data": {
      "text/html": [
       "<div>\n",
       "<style scoped>\n",
       "    .dataframe tbody tr th:only-of-type {\n",
       "        vertical-align: middle;\n",
       "    }\n",
       "\n",
       "    .dataframe tbody tr th {\n",
       "        vertical-align: top;\n",
       "    }\n",
       "\n",
       "    .dataframe thead th {\n",
       "        text-align: right;\n",
       "    }\n",
       "</style>\n",
       "<table border=\"1\" class=\"dataframe\">\n",
       "  <thead>\n",
       "    <tr style=\"text-align: right;\">\n",
       "      <th></th>\n",
       "      <th>0</th>\n",
       "      <th>1</th>\n",
       "      <th>2</th>\n",
       "    </tr>\n",
       "  </thead>\n",
       "  <tbody>\n",
       "    <tr>\n",
       "      <th>0</th>\n",
       "      <td>1</td>\n",
       "      <td>Pierre</td>\n",
       "      <td>NNP</td>\n",
       "    </tr>\n",
       "    <tr>\n",
       "      <th>1</th>\n",
       "      <td>2</td>\n",
       "      <td>Vinken</td>\n",
       "      <td>NNP</td>\n",
       "    </tr>\n",
       "    <tr>\n",
       "      <th>2</th>\n",
       "      <td>3</td>\n",
       "      <td>,</td>\n",
       "      <td>,</td>\n",
       "    </tr>\n",
       "    <tr>\n",
       "      <th>3</th>\n",
       "      <td>4</td>\n",
       "      <td>61</td>\n",
       "      <td>CD</td>\n",
       "    </tr>\n",
       "    <tr>\n",
       "      <th>4</th>\n",
       "      <td>5</td>\n",
       "      <td>years</td>\n",
       "      <td>NNS</td>\n",
       "    </tr>\n",
       "    <tr>\n",
       "      <th>...</th>\n",
       "      <td>...</td>\n",
       "      <td>...</td>\n",
       "      <td>...</td>\n",
       "    </tr>\n",
       "    <tr>\n",
       "      <th>912090</th>\n",
       "      <td>22</td>\n",
       "      <td>to</td>\n",
       "      <td>TO</td>\n",
       "    </tr>\n",
       "    <tr>\n",
       "      <th>912091</th>\n",
       "      <td>23</td>\n",
       "      <td>San</td>\n",
       "      <td>NNP</td>\n",
       "    </tr>\n",
       "    <tr>\n",
       "      <th>912092</th>\n",
       "      <td>24</td>\n",
       "      <td>Francisco</td>\n",
       "      <td>NNP</td>\n",
       "    </tr>\n",
       "    <tr>\n",
       "      <th>912093</th>\n",
       "      <td>25</td>\n",
       "      <td>instead</td>\n",
       "      <td>RB</td>\n",
       "    </tr>\n",
       "    <tr>\n",
       "      <th>912094</th>\n",
       "      <td>26</td>\n",
       "      <td>.</td>\n",
       "      <td>.</td>\n",
       "    </tr>\n",
       "  </tbody>\n",
       "</table>\n",
       "<p>912095 rows × 3 columns</p>\n",
       "</div>"
      ],
      "text/plain": [
       "         0          1    2\n",
       "0        1     Pierre  NNP\n",
       "1        2     Vinken  NNP\n",
       "2        3          ,    ,\n",
       "3        4         61   CD\n",
       "4        5      years  NNS\n",
       "...     ..        ...  ...\n",
       "912090  22         to   TO\n",
       "912091  23        San  NNP\n",
       "912092  24  Francisco  NNP\n",
       "912093  25    instead   RB\n",
       "912094  26          .    .\n",
       "\n",
       "[912095 rows x 3 columns]"
      ]
     },
     "execution_count": 2,
     "metadata": {},
     "output_type": "execute_result"
    }
   ],
   "source": [
    "path  = '/Users/William/Downloads/natural-language-processing/Hidden_Markov_Model/data/train'\n",
    "df = pd.read_csv(path,on_bad_lines='skip',sep='\\t',header= None)\n",
    "df"
   ]
  },
  {
   "cell_type": "code",
   "execution_count": 3,
   "id": "a4db5ef4",
   "metadata": {},
   "outputs": [],
   "source": [
    "# rename the column name \n",
    "new_df = df.copy()\n",
    "new_dff = df.copy()\n",
    "new_dfff = df.copy()\n",
    "new_df['Occurance']=new_df.groupby([1])[2].transform(len)"
   ]
  },
  {
   "cell_type": "code",
   "execution_count": 4,
   "id": "c6aa7ab1",
   "metadata": {},
   "outputs": [
    {
     "data": {
      "text/html": [
       "<div>\n",
       "<style scoped>\n",
       "    .dataframe tbody tr th:only-of-type {\n",
       "        vertical-align: middle;\n",
       "    }\n",
       "\n",
       "    .dataframe tbody tr th {\n",
       "        vertical-align: top;\n",
       "    }\n",
       "\n",
       "    .dataframe thead th {\n",
       "        text-align: right;\n",
       "    }\n",
       "</style>\n",
       "<table border=\"1\" class=\"dataframe\">\n",
       "  <thead>\n",
       "    <tr style=\"text-align: right;\">\n",
       "      <th></th>\n",
       "      <th>0</th>\n",
       "      <th>1</th>\n",
       "      <th>2</th>\n",
       "      <th>Occurance</th>\n",
       "      <th>occurance</th>\n",
       "    </tr>\n",
       "  </thead>\n",
       "  <tbody>\n",
       "    <tr>\n",
       "      <th>0</th>\n",
       "      <td>1</td>\n",
       "      <td>Pierre</td>\n",
       "      <td>NNP</td>\n",
       "      <td>6</td>\n",
       "      <td>6</td>\n",
       "    </tr>\n",
       "    <tr>\n",
       "      <th>1</th>\n",
       "      <td>2</td>\n",
       "      <td>&lt;unk&gt;</td>\n",
       "      <td>NNP</td>\n",
       "      <td>2</td>\n",
       "      <td>32537</td>\n",
       "    </tr>\n",
       "    <tr>\n",
       "      <th>2</th>\n",
       "      <td>3</td>\n",
       "      <td>,</td>\n",
       "      <td>,</td>\n",
       "      <td>46476</td>\n",
       "      <td>46476</td>\n",
       "    </tr>\n",
       "    <tr>\n",
       "      <th>3</th>\n",
       "      <td>4</td>\n",
       "      <td>61</td>\n",
       "      <td>CD</td>\n",
       "      <td>25</td>\n",
       "      <td>25</td>\n",
       "    </tr>\n",
       "    <tr>\n",
       "      <th>4</th>\n",
       "      <td>5</td>\n",
       "      <td>years</td>\n",
       "      <td>NNS</td>\n",
       "      <td>1130</td>\n",
       "      <td>1130</td>\n",
       "    </tr>\n",
       "    <tr>\n",
       "      <th>...</th>\n",
       "      <td>...</td>\n",
       "      <td>...</td>\n",
       "      <td>...</td>\n",
       "      <td>...</td>\n",
       "      <td>...</td>\n",
       "    </tr>\n",
       "    <tr>\n",
       "      <th>912090</th>\n",
       "      <td>22</td>\n",
       "      <td>to</td>\n",
       "      <td>TO</td>\n",
       "      <td>21305</td>\n",
       "      <td>21305</td>\n",
       "    </tr>\n",
       "    <tr>\n",
       "      <th>912091</th>\n",
       "      <td>23</td>\n",
       "      <td>San</td>\n",
       "      <td>NNP</td>\n",
       "      <td>269</td>\n",
       "      <td>269</td>\n",
       "    </tr>\n",
       "    <tr>\n",
       "      <th>912092</th>\n",
       "      <td>24</td>\n",
       "      <td>Francisco</td>\n",
       "      <td>NNP</td>\n",
       "      <td>209</td>\n",
       "      <td>209</td>\n",
       "    </tr>\n",
       "    <tr>\n",
       "      <th>912093</th>\n",
       "      <td>25</td>\n",
       "      <td>instead</td>\n",
       "      <td>RB</td>\n",
       "      <td>104</td>\n",
       "      <td>104</td>\n",
       "    </tr>\n",
       "    <tr>\n",
       "      <th>912094</th>\n",
       "      <td>26</td>\n",
       "      <td>.</td>\n",
       "      <td>.</td>\n",
       "      <td>37452</td>\n",
       "      <td>37452</td>\n",
       "    </tr>\n",
       "  </tbody>\n",
       "</table>\n",
       "<p>912095 rows × 5 columns</p>\n",
       "</div>"
      ],
      "text/plain": [
       "         0          1    2  Occurance  occurance\n",
       "0        1     Pierre  NNP          6          6\n",
       "1        2      <unk>  NNP          2      32537\n",
       "2        3          ,    ,      46476      46476\n",
       "3        4         61   CD         25         25\n",
       "4        5      years  NNS       1130       1130\n",
       "...     ..        ...  ...        ...        ...\n",
       "912090  22         to   TO      21305      21305\n",
       "912091  23        San  NNP        269        269\n",
       "912092  24  Francisco  NNP        209        209\n",
       "912093  25    instead   RB        104        104\n",
       "912094  26          .    .      37452      37452\n",
       "\n",
       "[912095 rows x 5 columns]"
      ]
     },
     "execution_count": 4,
     "metadata": {},
     "output_type": "execute_result"
    }
   ],
   "source": [
    "new_df.loc[new_df.Occurance<3,1]=\"<unk>\"\n",
    "new_df['occurance']=new_df.groupby([1])[2].transform(len)\n",
    "new_df"
   ]
  },
  {
   "cell_type": "code",
   "execution_count": 5,
   "id": "e97ca9f8",
   "metadata": {},
   "outputs": [
    {
     "data": {
      "text/html": [
       "<div>\n",
       "<style scoped>\n",
       "    .dataframe tbody tr th:only-of-type {\n",
       "        vertical-align: middle;\n",
       "    }\n",
       "\n",
       "    .dataframe tbody tr th {\n",
       "        vertical-align: top;\n",
       "    }\n",
       "\n",
       "    .dataframe thead th {\n",
       "        text-align: right;\n",
       "    }\n",
       "</style>\n",
       "<table border=\"1\" class=\"dataframe\">\n",
       "  <thead>\n",
       "    <tr style=\"text-align: right;\">\n",
       "      <th></th>\n",
       "      <th>word</th>\n",
       "      <th>occurance</th>\n",
       "    </tr>\n",
       "  </thead>\n",
       "  <tbody>\n",
       "    <tr>\n",
       "      <th>2</th>\n",
       "      <td>,</td>\n",
       "      <td>46476</td>\n",
       "    </tr>\n",
       "    <tr>\n",
       "      <th>9</th>\n",
       "      <td>the</td>\n",
       "      <td>39533</td>\n",
       "    </tr>\n",
       "    <tr>\n",
       "      <th>17</th>\n",
       "      <td>.</td>\n",
       "      <td>37452</td>\n",
       "    </tr>\n",
       "    <tr>\n",
       "      <th>1</th>\n",
       "      <td>&lt;unk&gt;</td>\n",
       "      <td>32537</td>\n",
       "    </tr>\n",
       "    <tr>\n",
       "      <th>22</th>\n",
       "      <td>of</td>\n",
       "      <td>22104</td>\n",
       "    </tr>\n",
       "    <tr>\n",
       "      <th>...</th>\n",
       "      <td>...</td>\n",
       "      <td>...</td>\n",
       "    </tr>\n",
       "    <tr>\n",
       "      <th>211080</th>\n",
       "      <td>Portland</td>\n",
       "      <td>3</td>\n",
       "    </tr>\n",
       "    <tr>\n",
       "      <th>211104</th>\n",
       "      <td>W</td>\n",
       "      <td>3</td>\n",
       "    </tr>\n",
       "    <tr>\n",
       "      <th>211105</th>\n",
       "      <td>Ayer</td>\n",
       "      <td>3</td>\n",
       "    </tr>\n",
       "    <tr>\n",
       "      <th>211957</th>\n",
       "      <td>stamp</td>\n",
       "      <td>3</td>\n",
       "    </tr>\n",
       "    <tr>\n",
       "      <th>910937</th>\n",
       "      <td>Fiorini</td>\n",
       "      <td>3</td>\n",
       "    </tr>\n",
       "  </tbody>\n",
       "</table>\n",
       "<p>16920 rows × 2 columns</p>\n",
       "</div>"
      ],
      "text/plain": [
       "            word  occurance\n",
       "2              ,      46476\n",
       "9            the      39533\n",
       "17             .      37452\n",
       "1          <unk>      32537\n",
       "22            of      22104\n",
       "...          ...        ...\n",
       "211080  Portland          3\n",
       "211104         W          3\n",
       "211105      Ayer          3\n",
       "211957     stamp          3\n",
       "910937   Fiorini          3\n",
       "\n",
       "[16920 rows x 2 columns]"
      ]
     },
     "execution_count": 5,
     "metadata": {},
     "output_type": "execute_result"
    }
   ],
   "source": [
    "# rename the column\n",
    "new_df.rename(columns={1: \"word\"},inplace=True)\n",
    "# drop duplicate rows based on column word (making sure just one <unk>)\n",
    "new_df.drop_duplicates(subset=['word'],inplace=True)\n",
    "# we store one df that contains the tag for each word\n",
    "tag_df = new_df.copy()\n",
    "# drop unessary column, includinh 0, 2, and Occurance\n",
    "new_df.drop(columns=[0, 2,\"Occurance\"],inplace=True)\n",
    "# sort the dataframe by occurance\n",
    "new_df.sort_values(by=['occurance'],ascending=False,inplace=True)\n",
    "new_df"
   ]
  },
  {
   "cell_type": "code",
   "execution_count": 6,
   "id": "fd0c2101",
   "metadata": {},
   "outputs": [
    {
     "data": {
      "text/html": [
       "<div>\n",
       "<style scoped>\n",
       "    .dataframe tbody tr th:only-of-type {\n",
       "        vertical-align: middle;\n",
       "    }\n",
       "\n",
       "    .dataframe tbody tr th {\n",
       "        vertical-align: top;\n",
       "    }\n",
       "\n",
       "    .dataframe thead th {\n",
       "        text-align: right;\n",
       "    }\n",
       "</style>\n",
       "<table border=\"1\" class=\"dataframe\">\n",
       "  <thead>\n",
       "    <tr style=\"text-align: right;\">\n",
       "      <th></th>\n",
       "      <th>level_0</th>\n",
       "      <th>index</th>\n",
       "      <th>word</th>\n",
       "      <th>occurance</th>\n",
       "    </tr>\n",
       "  </thead>\n",
       "  <tbody>\n",
       "    <tr>\n",
       "      <th>0</th>\n",
       "      <td>0</td>\n",
       "      <td>0</td>\n",
       "      <td>&lt;unk&gt;</td>\n",
       "      <td>32537</td>\n",
       "    </tr>\n",
       "    <tr>\n",
       "      <th>1</th>\n",
       "      <td>1</td>\n",
       "      <td>3</td>\n",
       "      <td>,</td>\n",
       "      <td>46476</td>\n",
       "    </tr>\n",
       "    <tr>\n",
       "      <th>2</th>\n",
       "      <td>2</td>\n",
       "      <td>2</td>\n",
       "      <td>.</td>\n",
       "      <td>37452</td>\n",
       "    </tr>\n",
       "    <tr>\n",
       "      <th>3</th>\n",
       "      <td>3</td>\n",
       "      <td>1</td>\n",
       "      <td>the</td>\n",
       "      <td>39533</td>\n",
       "    </tr>\n",
       "    <tr>\n",
       "      <th>4</th>\n",
       "      <td>4</td>\n",
       "      <td>4</td>\n",
       "      <td>of</td>\n",
       "      <td>22104</td>\n",
       "    </tr>\n",
       "    <tr>\n",
       "      <th>...</th>\n",
       "      <td>...</td>\n",
       "      <td>...</td>\n",
       "      <td>...</td>\n",
       "      <td>...</td>\n",
       "    </tr>\n",
       "    <tr>\n",
       "      <th>16915</th>\n",
       "      <td>16915</td>\n",
       "      <td>16915</td>\n",
       "      <td>Portland</td>\n",
       "      <td>3</td>\n",
       "    </tr>\n",
       "    <tr>\n",
       "      <th>16916</th>\n",
       "      <td>16916</td>\n",
       "      <td>16916</td>\n",
       "      <td>W</td>\n",
       "      <td>3</td>\n",
       "    </tr>\n",
       "    <tr>\n",
       "      <th>16917</th>\n",
       "      <td>16917</td>\n",
       "      <td>16917</td>\n",
       "      <td>Ayer</td>\n",
       "      <td>3</td>\n",
       "    </tr>\n",
       "    <tr>\n",
       "      <th>16918</th>\n",
       "      <td>16918</td>\n",
       "      <td>16918</td>\n",
       "      <td>stamp</td>\n",
       "      <td>3</td>\n",
       "    </tr>\n",
       "    <tr>\n",
       "      <th>16919</th>\n",
       "      <td>16919</td>\n",
       "      <td>16919</td>\n",
       "      <td>Fiorini</td>\n",
       "      <td>3</td>\n",
       "    </tr>\n",
       "  </tbody>\n",
       "</table>\n",
       "<p>16920 rows × 4 columns</p>\n",
       "</div>"
      ],
      "text/plain": [
       "       level_0  index      word  occurance\n",
       "0            0      0     <unk>      32537\n",
       "1            1      3         ,      46476\n",
       "2            2      2         .      37452\n",
       "3            3      1       the      39533\n",
       "4            4      4        of      22104\n",
       "...        ...    ...       ...        ...\n",
       "16915    16915  16915  Portland          3\n",
       "16916    16916  16916         W          3\n",
       "16917    16917  16917      Ayer          3\n",
       "16918    16918  16918     stamp          3\n",
       "16919    16919  16919   Fiorini          3\n",
       "\n",
       "[16920 rows x 4 columns]"
      ]
     },
     "execution_count": 6,
     "metadata": {},
     "output_type": "execute_result"
    }
   ],
   "source": [
    "new_df.reset_index(inplace=True)\n",
    "new_df.drop(columns=['index'],inplace=True)\n",
    "# put <unk> to be on the first row of the dataframe\n",
    "new_df.iloc[3], new_df.iloc[0] = new_df.iloc[0], new_df.iloc[3]\n",
    "# resort it to make sure <unk> has index 0\n",
    "new_df.reset_index(inplace=True)\n",
    "# make sure the first few words have the correct order\n",
    "new_df.iloc[3], new_df.iloc[1] = new_df.iloc[1], new_df.iloc[3]\n",
    "new_df.reset_index(inplace=True)\n",
    "new_df"
   ]
  },
  {
   "cell_type": "code",
   "execution_count": 7,
   "id": "5cc653dd",
   "metadata": {},
   "outputs": [],
   "source": [
    "new_df.drop(columns=[\"level_0\"],inplace=True)\n",
    "# same but it's for word \".\"\n",
    "new_df.iloc[3], new_df.iloc[2] = new_df.iloc[2], new_df.iloc[3]\n",
    "new_df['index'] = new_df.index"
   ]
  },
  {
   "cell_type": "code",
   "execution_count": 8,
   "id": "02ccde46",
   "metadata": {},
   "outputs": [
    {
     "data": {
      "text/html": [
       "<div>\n",
       "<style scoped>\n",
       "    .dataframe tbody tr th:only-of-type {\n",
       "        vertical-align: middle;\n",
       "    }\n",
       "\n",
       "    .dataframe tbody tr th {\n",
       "        vertical-align: top;\n",
       "    }\n",
       "\n",
       "    .dataframe thead th {\n",
       "        text-align: right;\n",
       "    }\n",
       "</style>\n",
       "<table border=\"1\" class=\"dataframe\">\n",
       "  <thead>\n",
       "    <tr style=\"text-align: right;\">\n",
       "      <th></th>\n",
       "      <th>word</th>\n",
       "      <th>index</th>\n",
       "      <th>occurance</th>\n",
       "    </tr>\n",
       "  </thead>\n",
       "  <tbody>\n",
       "    <tr>\n",
       "      <th>0</th>\n",
       "      <td>&lt;unk&gt;</td>\n",
       "      <td>0</td>\n",
       "      <td>32537</td>\n",
       "    </tr>\n",
       "    <tr>\n",
       "      <th>1</th>\n",
       "      <td>,</td>\n",
       "      <td>1</td>\n",
       "      <td>46476</td>\n",
       "    </tr>\n",
       "    <tr>\n",
       "      <th>2</th>\n",
       "      <td>the</td>\n",
       "      <td>2</td>\n",
       "      <td>39533</td>\n",
       "    </tr>\n",
       "    <tr>\n",
       "      <th>3</th>\n",
       "      <td>.</td>\n",
       "      <td>3</td>\n",
       "      <td>37452</td>\n",
       "    </tr>\n",
       "    <tr>\n",
       "      <th>4</th>\n",
       "      <td>of</td>\n",
       "      <td>4</td>\n",
       "      <td>22104</td>\n",
       "    </tr>\n",
       "    <tr>\n",
       "      <th>...</th>\n",
       "      <td>...</td>\n",
       "      <td>...</td>\n",
       "      <td>...</td>\n",
       "    </tr>\n",
       "    <tr>\n",
       "      <th>16915</th>\n",
       "      <td>Portland</td>\n",
       "      <td>16915</td>\n",
       "      <td>3</td>\n",
       "    </tr>\n",
       "    <tr>\n",
       "      <th>16916</th>\n",
       "      <td>W</td>\n",
       "      <td>16916</td>\n",
       "      <td>3</td>\n",
       "    </tr>\n",
       "    <tr>\n",
       "      <th>16917</th>\n",
       "      <td>Ayer</td>\n",
       "      <td>16917</td>\n",
       "      <td>3</td>\n",
       "    </tr>\n",
       "    <tr>\n",
       "      <th>16918</th>\n",
       "      <td>stamp</td>\n",
       "      <td>16918</td>\n",
       "      <td>3</td>\n",
       "    </tr>\n",
       "    <tr>\n",
       "      <th>16919</th>\n",
       "      <td>Fiorini</td>\n",
       "      <td>16919</td>\n",
       "      <td>3</td>\n",
       "    </tr>\n",
       "  </tbody>\n",
       "</table>\n",
       "<p>16920 rows × 3 columns</p>\n",
       "</div>"
      ],
      "text/plain": [
       "           word  index  occurance\n",
       "0         <unk>      0      32537\n",
       "1             ,      1      46476\n",
       "2           the      2      39533\n",
       "3             .      3      37452\n",
       "4            of      4      22104\n",
       "...         ...    ...        ...\n",
       "16915  Portland  16915          3\n",
       "16916         W  16916          3\n",
       "16917      Ayer  16917          3\n",
       "16918     stamp  16918          3\n",
       "16919   Fiorini  16919          3\n",
       "\n",
       "[16920 rows x 3 columns]"
      ]
     },
     "execution_count": 8,
     "metadata": {},
     "output_type": "execute_result"
    }
   ],
   "source": [
    "# shift column word to be the first column\n",
    "first_column = new_df.pop('word')\n",
    "new_df.insert(0, 'word', first_column)\n",
    "new_df"
   ]
  },
  {
   "cell_type": "code",
   "execution_count": 9,
   "id": "000dbbe0",
   "metadata": {},
   "outputs": [],
   "source": [
    "new_df.to_csv(\"vocab_csv.csv\",index=False)"
   ]
  },
  {
   "cell_type": "code",
   "execution_count": 10,
   "id": "f4e205b8",
   "metadata": {},
   "outputs": [
    {
     "name": "stdout",
     "output_type": "stream",
     "text": [
      "success\n"
     ]
    }
   ],
   "source": [
    "np.savetxt('/Users/William/Downloads/natural-language-processing/Hidden_Markov_Model/data/vocab.txt', new_df, delimiter=r'\\t ', header=r'\\t '.join(new_df.columns.values), fmt='%s', comments='', encoding=None)\n",
    "print(\"success\")"
   ]
  },
  {
   "cell_type": "code",
   "execution_count": 11,
   "id": "93796dd2",
   "metadata": {},
   "outputs": [
    {
     "name": "stdout",
     "output_type": "stream",
     "text": [
      "Selected threshold for unk words replace ment is 3.\n",
      "Total size of my vocabulary is 16920 after counting.\n",
      "There are 32537 <unk> after replacement.\n"
     ]
    }
   ],
   "source": [
    "print(\"Selected threshold for unk words replace ment is 3.\")\n",
    "print(\"Total size of my vocabulary is 16920 after counting.\")\n",
    "print(\"There are 32537 <unk> after replacement.\")"
   ]
  },
  {
   "cell_type": "markdown",
   "id": "3160b199",
   "metadata": {},
   "source": [
    "### Task 2: Model Learning Hidden Markov Model"
   ]
  },
  {
   "cell_type": "code",
   "execution_count": 12,
   "id": "81c2c6df",
   "metadata": {
    "scrolled": true
   },
   "outputs": [],
   "source": [
    "new_dfff['Occurance']=new_dfff.groupby([1])[2].transform(len)\n",
    "new_dfff.loc[new_dfff.Occurance<3,1]=\"<unk>\"\n",
    "new_dfff['occurance']=new_dfff.groupby([1])[2].transform(len)"
   ]
  },
  {
   "cell_type": "code",
   "execution_count": 13,
   "id": "5bf4985e",
   "metadata": {},
   "outputs": [
    {
     "data": {
      "text/html": [
       "<div>\n",
       "<style scoped>\n",
       "    .dataframe tbody tr th:only-of-type {\n",
       "        vertical-align: middle;\n",
       "    }\n",
       "\n",
       "    .dataframe tbody tr th {\n",
       "        vertical-align: top;\n",
       "    }\n",
       "\n",
       "    .dataframe thead th {\n",
       "        text-align: right;\n",
       "    }\n",
       "</style>\n",
       "<table border=\"1\" class=\"dataframe\">\n",
       "  <thead>\n",
       "    <tr style=\"text-align: right;\">\n",
       "      <th></th>\n",
       "      <th>0</th>\n",
       "      <th>1</th>\n",
       "      <th>2</th>\n",
       "      <th>Occurance</th>\n",
       "      <th>occurance</th>\n",
       "    </tr>\n",
       "  </thead>\n",
       "  <tbody>\n",
       "    <tr>\n",
       "      <th>0</th>\n",
       "      <td>1</td>\n",
       "      <td>Pierre</td>\n",
       "      <td>NNP</td>\n",
       "      <td>6</td>\n",
       "      <td>6</td>\n",
       "    </tr>\n",
       "    <tr>\n",
       "      <th>1</th>\n",
       "      <td>2</td>\n",
       "      <td>&lt;unk&gt;</td>\n",
       "      <td>NNP</td>\n",
       "      <td>2</td>\n",
       "      <td>32537</td>\n",
       "    </tr>\n",
       "    <tr>\n",
       "      <th>2</th>\n",
       "      <td>3</td>\n",
       "      <td>,</td>\n",
       "      <td>,</td>\n",
       "      <td>46476</td>\n",
       "      <td>46476</td>\n",
       "    </tr>\n",
       "    <tr>\n",
       "      <th>3</th>\n",
       "      <td>4</td>\n",
       "      <td>61</td>\n",
       "      <td>CD</td>\n",
       "      <td>25</td>\n",
       "      <td>25</td>\n",
       "    </tr>\n",
       "    <tr>\n",
       "      <th>4</th>\n",
       "      <td>5</td>\n",
       "      <td>years</td>\n",
       "      <td>NNS</td>\n",
       "      <td>1130</td>\n",
       "      <td>1130</td>\n",
       "    </tr>\n",
       "    <tr>\n",
       "      <th>...</th>\n",
       "      <td>...</td>\n",
       "      <td>...</td>\n",
       "      <td>...</td>\n",
       "      <td>...</td>\n",
       "      <td>...</td>\n",
       "    </tr>\n",
       "    <tr>\n",
       "      <th>912090</th>\n",
       "      <td>22</td>\n",
       "      <td>to</td>\n",
       "      <td>TO</td>\n",
       "      <td>21305</td>\n",
       "      <td>21305</td>\n",
       "    </tr>\n",
       "    <tr>\n",
       "      <th>912091</th>\n",
       "      <td>23</td>\n",
       "      <td>San</td>\n",
       "      <td>NNP</td>\n",
       "      <td>269</td>\n",
       "      <td>269</td>\n",
       "    </tr>\n",
       "    <tr>\n",
       "      <th>912092</th>\n",
       "      <td>24</td>\n",
       "      <td>Francisco</td>\n",
       "      <td>NNP</td>\n",
       "      <td>209</td>\n",
       "      <td>209</td>\n",
       "    </tr>\n",
       "    <tr>\n",
       "      <th>912093</th>\n",
       "      <td>25</td>\n",
       "      <td>instead</td>\n",
       "      <td>RB</td>\n",
       "      <td>104</td>\n",
       "      <td>104</td>\n",
       "    </tr>\n",
       "    <tr>\n",
       "      <th>912094</th>\n",
       "      <td>26</td>\n",
       "      <td>.</td>\n",
       "      <td>.</td>\n",
       "      <td>37452</td>\n",
       "      <td>37452</td>\n",
       "    </tr>\n",
       "  </tbody>\n",
       "</table>\n",
       "<p>912095 rows × 5 columns</p>\n",
       "</div>"
      ],
      "text/plain": [
       "         0          1    2  Occurance  occurance\n",
       "0        1     Pierre  NNP          6          6\n",
       "1        2      <unk>  NNP          2      32537\n",
       "2        3          ,    ,      46476      46476\n",
       "3        4         61   CD         25         25\n",
       "4        5      years  NNS       1130       1130\n",
       "...     ..        ...  ...        ...        ...\n",
       "912090  22         to   TO      21305      21305\n",
       "912091  23        San  NNP        269        269\n",
       "912092  24  Francisco  NNP        209        209\n",
       "912093  25    instead   RB        104        104\n",
       "912094  26          .    .      37452      37452\n",
       "\n",
       "[912095 rows x 5 columns]"
      ]
     },
     "execution_count": 13,
     "metadata": {},
     "output_type": "execute_result"
    }
   ],
   "source": [
    "new_dfff"
   ]
  },
  {
   "cell_type": "code",
   "execution_count": 14,
   "id": "95461d59",
   "metadata": {},
   "outputs": [
    {
     "data": {
      "text/plain": [
       "0             Pierre\n",
       "2                  ,\n",
       "3                 61\n",
       "4              years\n",
       "5                old\n",
       "             ...    \n",
       "906187    Steinhardt\n",
       "909566       Granges\n",
       "909586        Tartan\n",
       "910915         Sasea\n",
       "910937       Fiorini\n",
       "Name: 1, Length: 16919, dtype: object"
      ]
     },
     "execution_count": 14,
     "metadata": {},
     "output_type": "execute_result"
    }
   ],
   "source": [
    "# we want to grab the frequent word into learning HMM\n",
    "new_dfff.drop_duplicates(subset=[1],inplace=True)\n",
    "frequent = new_dfff.loc[new_dfff[\"Occurance\"]>=3][1]\n",
    "frequent"
   ]
  },
  {
   "cell_type": "code",
   "execution_count": 15,
   "id": "4b9fd62c",
   "metadata": {},
   "outputs": [],
   "source": [
    "# define dictionaries\n",
    "transition = {}\n",
    "emission = {}\n",
    "tag_count = {}\n",
    "tag_tag = {}\n",
    "tag_word = {}"
   ]
  },
  {
   "cell_type": "code",
   "execution_count": 16,
   "id": "6dae438f",
   "metadata": {},
   "outputs": [
    {
     "data": {
      "text/plain": [
       "0            Pierre\n",
       "1             <unk>\n",
       "2                 ,\n",
       "3                61\n",
       "4             years\n",
       "            ...    \n",
       "912090           to\n",
       "912091          San\n",
       "912092    Francisco\n",
       "912093      instead\n",
       "912094            .\n",
       "Name: 1, Length: 912095, dtype: object"
      ]
     },
     "execution_count": 16,
     "metadata": {},
     "output_type": "execute_result"
    }
   ],
   "source": [
    "new_dff['Occurance']=new_dff.groupby([1])[2].transform(len)\n",
    "new_dff.loc[new_dff.Occurance<3,1]=\"<unk>\"\n",
    "new_dff['occurance']=new_dff.groupby([1])[2].transform(len)\n",
    "new_dff[1]"
   ]
  },
  {
   "cell_type": "code",
   "execution_count": 17,
   "id": "734643a6",
   "metadata": {},
   "outputs": [
    {
     "data": {
      "text/html": [
       "<div>\n",
       "<style scoped>\n",
       "    .dataframe tbody tr th:only-of-type {\n",
       "        vertical-align: middle;\n",
       "    }\n",
       "\n",
       "    .dataframe tbody tr th {\n",
       "        vertical-align: top;\n",
       "    }\n",
       "\n",
       "    .dataframe thead th {\n",
       "        text-align: right;\n",
       "    }\n",
       "</style>\n",
       "<table border=\"1\" class=\"dataframe\">\n",
       "  <thead>\n",
       "    <tr style=\"text-align: right;\">\n",
       "      <th></th>\n",
       "      <th>0</th>\n",
       "      <th>1</th>\n",
       "      <th>2</th>\n",
       "      <th>Occurance</th>\n",
       "      <th>occurance</th>\n",
       "    </tr>\n",
       "  </thead>\n",
       "  <tbody>\n",
       "    <tr>\n",
       "      <th>0</th>\n",
       "      <td>1</td>\n",
       "      <td>Pierre</td>\n",
       "      <td>NNP</td>\n",
       "      <td>6</td>\n",
       "      <td>6</td>\n",
       "    </tr>\n",
       "    <tr>\n",
       "      <th>1</th>\n",
       "      <td>2</td>\n",
       "      <td>&lt;unk&gt;</td>\n",
       "      <td>NNP</td>\n",
       "      <td>2</td>\n",
       "      <td>32537</td>\n",
       "    </tr>\n",
       "    <tr>\n",
       "      <th>2</th>\n",
       "      <td>3</td>\n",
       "      <td>,</td>\n",
       "      <td>,</td>\n",
       "      <td>46476</td>\n",
       "      <td>46476</td>\n",
       "    </tr>\n",
       "    <tr>\n",
       "      <th>3</th>\n",
       "      <td>4</td>\n",
       "      <td>61</td>\n",
       "      <td>CD</td>\n",
       "      <td>25</td>\n",
       "      <td>25</td>\n",
       "    </tr>\n",
       "    <tr>\n",
       "      <th>4</th>\n",
       "      <td>5</td>\n",
       "      <td>years</td>\n",
       "      <td>NNS</td>\n",
       "      <td>1130</td>\n",
       "      <td>1130</td>\n",
       "    </tr>\n",
       "    <tr>\n",
       "      <th>...</th>\n",
       "      <td>...</td>\n",
       "      <td>...</td>\n",
       "      <td>...</td>\n",
       "      <td>...</td>\n",
       "      <td>...</td>\n",
       "    </tr>\n",
       "    <tr>\n",
       "      <th>912090</th>\n",
       "      <td>22</td>\n",
       "      <td>to</td>\n",
       "      <td>TO</td>\n",
       "      <td>21305</td>\n",
       "      <td>21305</td>\n",
       "    </tr>\n",
       "    <tr>\n",
       "      <th>912091</th>\n",
       "      <td>23</td>\n",
       "      <td>San</td>\n",
       "      <td>NNP</td>\n",
       "      <td>269</td>\n",
       "      <td>269</td>\n",
       "    </tr>\n",
       "    <tr>\n",
       "      <th>912092</th>\n",
       "      <td>24</td>\n",
       "      <td>Francisco</td>\n",
       "      <td>NNP</td>\n",
       "      <td>209</td>\n",
       "      <td>209</td>\n",
       "    </tr>\n",
       "    <tr>\n",
       "      <th>912093</th>\n",
       "      <td>25</td>\n",
       "      <td>instead</td>\n",
       "      <td>RB</td>\n",
       "      <td>104</td>\n",
       "      <td>104</td>\n",
       "    </tr>\n",
       "    <tr>\n",
       "      <th>912094</th>\n",
       "      <td>26</td>\n",
       "      <td>.</td>\n",
       "      <td>.</td>\n",
       "      <td>37452</td>\n",
       "      <td>37452</td>\n",
       "    </tr>\n",
       "  </tbody>\n",
       "</table>\n",
       "<p>912095 rows × 5 columns</p>\n",
       "</div>"
      ],
      "text/plain": [
       "         0          1    2  Occurance  occurance\n",
       "0        1     Pierre  NNP          6          6\n",
       "1        2      <unk>  NNP          2      32537\n",
       "2        3          ,    ,      46476      46476\n",
       "3        4         61   CD         25         25\n",
       "4        5      years  NNS       1130       1130\n",
       "...     ..        ...  ...        ...        ...\n",
       "912090  22         to   TO      21305      21305\n",
       "912091  23        San  NNP        269        269\n",
       "912092  24  Francisco  NNP        209        209\n",
       "912093  25    instead   RB        104        104\n",
       "912094  26          .    .      37452      37452\n",
       "\n",
       "[912095 rows x 5 columns]"
      ]
     },
     "execution_count": 17,
     "metadata": {},
     "output_type": "execute_result"
    }
   ],
   "source": [
    "new_dff"
   ]
  },
  {
   "cell_type": "code",
   "execution_count": 18,
   "id": "517c52a2",
   "metadata": {},
   "outputs": [],
   "source": [
    "existed_keys = new_df['word'].tolist()\n",
    "words = new_dff[1].values.tolist()\n",
    "indices = df[0].values.tolist()\n",
    "poss = df[2].values.tolist()\n",
    "for w in range(len(words)-1):\n",
    "    if(indices[w]<indices[w+1]):\n",
    "        # we use ~ here because some tags have , or . as tag\n",
    "        if '('+str(poss[w+1]) + '~' + str(poss[w])+')' in tag_tag:\n",
    "            tag_tag['('+str(poss[w+1]) + '~' + str(poss[w])+')'] +=1\n",
    "        else:\n",
    "            tag_tag['('+str(poss[w+1]) + '~' + str(poss[w])+')'] =1"
   ]
  },
  {
   "cell_type": "code",
   "execution_count": 19,
   "id": "0d1c05e7",
   "metadata": {},
   "outputs": [],
   "source": [
    "for w in range(len(words)-1):\n",
    "    if(indices[w]<indices[w+1]):\n",
    "    # check e now\n",
    "        if '('+str(words[w]) + '~' + str(poss[w])+')'in tag_word:\n",
    "            tag_word['('+str(words[w]) + '~' + str(poss[w])+')'] +=1\n",
    "        else:\n",
    "            tag_word['('+str(words[w]) + '~' + str(poss[w])+')'] =1"
   ]
  },
  {
   "cell_type": "code",
   "execution_count": 20,
   "id": "96b29ab9",
   "metadata": {},
   "outputs": [],
   "source": [
    "# setting up start tag \n",
    "words_length = len(words)\n",
    "for i in range (words_length):\n",
    "    # if index is 1, it means that word is the start of the sentence\n",
    "    if indices[i]==1:\n",
    "        if '('+str(poss[i]) + '~' + '<s>'+')' in tag_tag:\n",
    "            tag_tag['('+str(poss[i]) + '~' + '<s>'+')'] +=1\n",
    "        else:\n",
    "            tag_tag['('+str(poss[i]) + '~' + '<s>'+')'] =1"
   ]
  },
  {
   "cell_type": "code",
   "execution_count": 21,
   "id": "cedaee1c",
   "metadata": {},
   "outputs": [],
   "source": [
    "#tag_tag"
   ]
  },
  {
   "cell_type": "code",
   "execution_count": 22,
   "id": "cd649d8b",
   "metadata": {},
   "outputs": [],
   "source": [
    "# count the number of the <s> tag\n",
    "tag_count['<s>']=0\n",
    "for i in indices:\n",
    "    if (i==1):\n",
    "        # start of the sentence\n",
    "        tag_count['<s>']+=1"
   ]
  },
  {
   "cell_type": "code",
   "execution_count": 23,
   "id": "df9518d8",
   "metadata": {},
   "outputs": [
    {
     "data": {
      "text/plain": [
       "{'<s>': 38218}"
      ]
     },
     "execution_count": 23,
     "metadata": {},
     "output_type": "execute_result"
    }
   ],
   "source": [
    "tag_count"
   ]
  },
  {
   "cell_type": "code",
   "execution_count": 24,
   "id": "5e74566b",
   "metadata": {},
   "outputs": [],
   "source": [
    "# count other tag number to be in the denominator\n",
    "for i in poss:\n",
    "    if i not in tag_count:\n",
    "        tag_count[i] = 1\n",
    "    else:\n",
    "        tag_count[i] +=1"
   ]
  },
  {
   "cell_type": "code",
   "execution_count": 25,
   "id": "8085dc26",
   "metadata": {},
   "outputs": [],
   "source": [
    "#tag_count"
   ]
  },
  {
   "cell_type": "markdown",
   "id": "1124caad",
   "metadata": {},
   "source": [
    "Now we find the transition and emission matrices."
   ]
  },
  {
   "cell_type": "code",
   "execution_count": 26,
   "id": "ed1ff642",
   "metadata": {},
   "outputs": [],
   "source": [
    "for i in tag_tag:\n",
    "    ix = i.split('~')[1][:-1] # we need to exclude the right bracket ')'\n",
    "    transition[i] = tag_tag[i]/tag_count[ix]    "
   ]
  },
  {
   "cell_type": "code",
   "execution_count": 27,
   "id": "8a6a3acf",
   "metadata": {},
   "outputs": [],
   "source": [
    "for i in tag_word:\n",
    "    ix = i.split('~')[1][:-1]\n",
    "    emission[i] = tag_word[i]/tag_count[ix]"
   ]
  },
  {
   "cell_type": "code",
   "execution_count": 28,
   "id": "4bb6814c",
   "metadata": {},
   "outputs": [],
   "source": [
    "#tag_tag"
   ]
  },
  {
   "cell_type": "code",
   "execution_count": 29,
   "id": "443bab1b",
   "metadata": {},
   "outputs": [],
   "source": [
    "#tag_word"
   ]
  },
  {
   "cell_type": "code",
   "execution_count": 30,
   "id": "59d8f132",
   "metadata": {},
   "outputs": [],
   "source": [
    "#transition"
   ]
  },
  {
   "cell_type": "code",
   "execution_count": 31,
   "id": "4320d834",
   "metadata": {
    "scrolled": true
   },
   "outputs": [],
   "source": [
    "#emission"
   ]
  },
  {
   "cell_type": "code",
   "execution_count": 32,
   "id": "02cad526",
   "metadata": {},
   "outputs": [],
   "source": [
    "emission_transition = [emission, transition]\n",
    "with open('/Users/William/Downloads/natural-language-processing/Hidden_Markov_Model/data/hmm.json', 'w') as output:\n",
    "    json.dump(emission_transition, output)"
   ]
  },
  {
   "cell_type": "code",
   "execution_count": 33,
   "id": "ea7d8cb0",
   "metadata": {},
   "outputs": [
    {
     "name": "stdout",
     "output_type": "stream",
     "text": [
      "The number of parameters for transition is: 1392\n",
      "The number of parameters for emission is: 23350\n"
     ]
    }
   ],
   "source": [
    "print(\"The number of parameters for transition is:\", len(transition))\n",
    "print(\"The number of parameters for emission is:\",len(emission))"
   ]
  },
  {
   "cell_type": "markdown",
   "id": "34cd8677",
   "metadata": {},
   "source": [
    "### Task 3: Greedy Decoding with HMM"
   ]
  },
  {
   "cell_type": "code",
   "execution_count": 34,
   "id": "0efc4308",
   "metadata": {},
   "outputs": [
    {
     "data": {
      "text/html": [
       "<div>\n",
       "<style scoped>\n",
       "    .dataframe tbody tr th:only-of-type {\n",
       "        vertical-align: middle;\n",
       "    }\n",
       "\n",
       "    .dataframe tbody tr th {\n",
       "        vertical-align: top;\n",
       "    }\n",
       "\n",
       "    .dataframe thead th {\n",
       "        text-align: right;\n",
       "    }\n",
       "</style>\n",
       "<table border=\"1\" class=\"dataframe\">\n",
       "  <thead>\n",
       "    <tr style=\"text-align: right;\">\n",
       "      <th></th>\n",
       "      <th>index</th>\n",
       "      <th>word</th>\n",
       "      <th>tag</th>\n",
       "    </tr>\n",
       "  </thead>\n",
       "  <tbody>\n",
       "    <tr>\n",
       "      <th>0</th>\n",
       "      <td>1</td>\n",
       "      <td>The</td>\n",
       "      <td>DT</td>\n",
       "    </tr>\n",
       "    <tr>\n",
       "      <th>1</th>\n",
       "      <td>2</td>\n",
       "      <td>Arizona</td>\n",
       "      <td>NNP</td>\n",
       "    </tr>\n",
       "    <tr>\n",
       "      <th>2</th>\n",
       "      <td>3</td>\n",
       "      <td>Corporations</td>\n",
       "      <td>NNP</td>\n",
       "    </tr>\n",
       "    <tr>\n",
       "      <th>3</th>\n",
       "      <td>4</td>\n",
       "      <td>Commission</td>\n",
       "      <td>NNP</td>\n",
       "    </tr>\n",
       "    <tr>\n",
       "      <th>4</th>\n",
       "      <td>5</td>\n",
       "      <td>authorized</td>\n",
       "      <td>VBD</td>\n",
       "    </tr>\n",
       "    <tr>\n",
       "      <th>...</th>\n",
       "      <td>...</td>\n",
       "      <td>...</td>\n",
       "      <td>...</td>\n",
       "    </tr>\n",
       "    <tr>\n",
       "      <th>131763</th>\n",
       "      <td>13</td>\n",
       "      <td>join</td>\n",
       "      <td>VB</td>\n",
       "    </tr>\n",
       "    <tr>\n",
       "      <th>131764</th>\n",
       "      <td>14</td>\n",
       "      <td>the</td>\n",
       "      <td>DT</td>\n",
       "    </tr>\n",
       "    <tr>\n",
       "      <th>131765</th>\n",
       "      <td>15</td>\n",
       "      <td>winning</td>\n",
       "      <td>VBG</td>\n",
       "    </tr>\n",
       "    <tr>\n",
       "      <th>131766</th>\n",
       "      <td>16</td>\n",
       "      <td>bidder</td>\n",
       "      <td>NN</td>\n",
       "    </tr>\n",
       "    <tr>\n",
       "      <th>131767</th>\n",
       "      <td>17</td>\n",
       "      <td>.</td>\n",
       "      <td>.</td>\n",
       "    </tr>\n",
       "  </tbody>\n",
       "</table>\n",
       "<p>131768 rows × 3 columns</p>\n",
       "</div>"
      ],
      "text/plain": [
       "        index          word  tag\n",
       "0           1           The   DT\n",
       "1           2       Arizona  NNP\n",
       "2           3  Corporations  NNP\n",
       "3           4    Commission  NNP\n",
       "4           5    authorized  VBD\n",
       "...       ...           ...  ...\n",
       "131763     13          join   VB\n",
       "131764     14           the   DT\n",
       "131765     15       winning  VBG\n",
       "131766     16        bidder   NN\n",
       "131767     17             .    .\n",
       "\n",
       "[131768 rows x 3 columns]"
      ]
     },
     "execution_count": 34,
     "metadata": {},
     "output_type": "execute_result"
    }
   ],
   "source": [
    "dev = pd.read_csv('/Users/William/Downloads/natural-language-processing/Hidden_Markov_Model/data/dev',sep='\\t',names=[\"index\",\"word\",\"tag\"])\n",
    "dev"
   ]
  },
  {
   "cell_type": "code",
   "execution_count": 35,
   "id": "48c62e00",
   "metadata": {},
   "outputs": [],
   "source": [
    "dev_word = dev[\"word\"].values.tolist()\n",
    "dev_index = dev[\"index\"].values.tolist()\n",
    "dev_tag = dev[\"tag\"].values.tolist()"
   ]
  },
  {
   "cell_type": "code",
   "execution_count": 36,
   "id": "81ac53c5",
   "metadata": {},
   "outputs": [],
   "source": [
    "tag_list = list(tag_count.keys())\n",
    "wordss = []\n",
    "tagss= []\n",
    "dev_word_true = []\n",
    "dev_tag_true = []"
   ]
  },
  {
   "cell_type": "code",
   "execution_count": 37,
   "id": "d7283853",
   "metadata": {},
   "outputs": [],
   "source": [
    "# separte words in to a list, same for tags\n",
    "for i in range(len(dev)-1):\n",
    "    if dev_index[i]< dev_index[i+1]:\n",
    "        wordss.append(dev_word[i])\n",
    "        tagss.append(dev_tag[i])\n",
    "    else:\n",
    "        wordss.append(dev_word[i])\n",
    "        dev_word_true.append(wordss)\n",
    "        wordss =[]\n",
    "        tagss.append(dev_tag[i])\n",
    "        dev_tag_true.append(tagss)\n",
    "        tagss=[]"
   ]
  },
  {
   "cell_type": "code",
   "execution_count": 38,
   "id": "9aca141f",
   "metadata": {},
   "outputs": [
    {
     "data": {
      "text/plain": [
       "['<s>',\n",
       " 'NNP',\n",
       " ',',\n",
       " 'CD',\n",
       " 'NNS',\n",
       " 'JJ',\n",
       " 'MD',\n",
       " 'VB',\n",
       " 'DT',\n",
       " 'NN',\n",
       " 'IN',\n",
       " '.',\n",
       " 'VBZ',\n",
       " 'VBG',\n",
       " 'CC',\n",
       " 'VBD',\n",
       " 'VBN',\n",
       " 'RB',\n",
       " 'TO',\n",
       " 'PRP',\n",
       " 'RBR',\n",
       " 'WDT',\n",
       " 'VBP',\n",
       " 'RP',\n",
       " 'PRP$',\n",
       " 'JJS',\n",
       " 'POS',\n",
       " '``',\n",
       " 'EX',\n",
       " \"''\",\n",
       " 'WP',\n",
       " ':',\n",
       " 'JJR',\n",
       " 'WRB',\n",
       " '$',\n",
       " 'NNPS',\n",
       " 'WP$',\n",
       " '-LRB-',\n",
       " '-RRB-',\n",
       " 'PDT',\n",
       " 'RBS',\n",
       " 'FW',\n",
       " 'UH',\n",
       " 'SYM',\n",
       " 'LS',\n",
       " '#']"
      ]
     },
     "execution_count": 38,
     "metadata": {},
     "output_type": "execute_result"
    }
   ],
   "source": [
    "tag_list"
   ]
  },
  {
   "cell_type": "code",
   "execution_count": 39,
   "id": "019eeba9",
   "metadata": {},
   "outputs": [],
   "source": [
    "frequent=list(frequent)"
   ]
  },
  {
   "cell_type": "code",
   "execution_count": 40,
   "id": "ba5ca0ef",
   "metadata": {},
   "outputs": [
    {
     "data": {
      "text/plain": [
       "16919"
      ]
     },
     "execution_count": 40,
     "metadata": {},
     "output_type": "execute_result"
    }
   ],
   "source": [
    "len(frequent)"
   ]
  },
  {
   "cell_type": "code",
   "execution_count": 134,
   "id": "658cbbcc",
   "metadata": {},
   "outputs": [],
   "source": [
    "def greedy(stnce):\n",
    "    tag=[]\n",
    "    prb=0\n",
    "    pos = 'unk'\n",
    "    # check the start of the sentence is unk or not\n",
    "    if stnce[0] not in frequent:\n",
    "        stnce[0]='<unk>'\n",
    "        \n",
    "    for i in tag_list:\n",
    "        # some index may not exist so need to use try statement\n",
    "        # reference: https://www.w3schools.com/python/python_try_except.asp\n",
    "        try:\n",
    "            a = transition['('+i+'~'+'<s>'+')']*emission['('+stnce[0]+'~'+i+')']\n",
    "            if a > prb:\n",
    "                prb = a\n",
    "                pos = i\n",
    "        except:\n",
    "            pass\n",
    "    tag.append(pos)\n",
    "    #check if the word is in the vocabulary\n",
    "    for i in range(1,len(stnce)):\n",
    "        if stnce[i] not in frequent:\n",
    "            stnce[i] = \"<unk>\"\n",
    "        prb2 = 0\n",
    "        pos2 ='unk'\n",
    "        for j in tag_list:\n",
    "            # some index may not exist so need to use try statement\n",
    "            try:\n",
    "                b = transition['('+j+'~'+tag[-1]+')'] * emission['('+stnce[i]+'~'+j+')']\n",
    "                if b >prb2:\n",
    "                    prb2 = b\n",
    "                    pos2 = j\n",
    "            except:\n",
    "                pass\n",
    "        tag.append(pos2)\n",
    "    return tag"
   ]
  },
  {
   "cell_type": "code",
   "execution_count": 135,
   "id": "4decd214",
   "metadata": {
    "scrolled": true
   },
   "outputs": [],
   "source": [
    "#dev_word_true"
   ]
  },
  {
   "cell_type": "code",
   "execution_count": 136,
   "id": "181573f1",
   "metadata": {
    "scrolled": true
   },
   "outputs": [],
   "source": [
    "#dev_tag_true"
   ]
  },
  {
   "cell_type": "code",
   "execution_count": 137,
   "id": "c4b383c6",
   "metadata": {},
   "outputs": [],
   "source": [
    "tag_pred=[]\n",
    "for i in dev_word_true:\n",
    "    tag_pred.append(greedy(i))\n",
    "tag_pred= sum(tag_pred, [])\n",
    "tag_acc = sum(dev_tag_true, [])"
   ]
  },
  {
   "cell_type": "code",
   "execution_count": 138,
   "id": "70febd88",
   "metadata": {},
   "outputs": [
    {
     "name": "stdout",
     "output_type": "stream",
     "text": [
      "The accuracy score for greedy decoding HMM is: 0.9267405939992865\n"
     ]
    }
   ],
   "source": [
    "accuracy = accuracy_score(tag_acc, tag_pred)\n",
    "print(\"The accuracy score for greedy decoding HMM is:\",accuracy)"
   ]
  },
  {
   "cell_type": "code",
   "execution_count": 139,
   "id": "81363354",
   "metadata": {
    "scrolled": false
   },
   "outputs": [
    {
     "data": {
      "text/html": [
       "<div>\n",
       "<style scoped>\n",
       "    .dataframe tbody tr th:only-of-type {\n",
       "        vertical-align: middle;\n",
       "    }\n",
       "\n",
       "    .dataframe tbody tr th {\n",
       "        vertical-align: top;\n",
       "    }\n",
       "\n",
       "    .dataframe thead th {\n",
       "        text-align: right;\n",
       "    }\n",
       "</style>\n",
       "<table border=\"1\" class=\"dataframe\">\n",
       "  <thead>\n",
       "    <tr style=\"text-align: right;\">\n",
       "      <th></th>\n",
       "      <th>index</th>\n",
       "      <th>word</th>\n",
       "    </tr>\n",
       "  </thead>\n",
       "  <tbody>\n",
       "    <tr>\n",
       "      <th>0</th>\n",
       "      <td>1</td>\n",
       "      <td>Influential</td>\n",
       "    </tr>\n",
       "    <tr>\n",
       "      <th>1</th>\n",
       "      <td>2</td>\n",
       "      <td>members</td>\n",
       "    </tr>\n",
       "    <tr>\n",
       "      <th>2</th>\n",
       "      <td>3</td>\n",
       "      <td>of</td>\n",
       "    </tr>\n",
       "    <tr>\n",
       "      <th>3</th>\n",
       "      <td>4</td>\n",
       "      <td>the</td>\n",
       "    </tr>\n",
       "    <tr>\n",
       "      <th>4</th>\n",
       "      <td>5</td>\n",
       "      <td>House</td>\n",
       "    </tr>\n",
       "    <tr>\n",
       "      <th>...</th>\n",
       "      <td>...</td>\n",
       "      <td>...</td>\n",
       "    </tr>\n",
       "    <tr>\n",
       "      <th>129649</th>\n",
       "      <td>26</td>\n",
       "      <td>them</td>\n",
       "    </tr>\n",
       "    <tr>\n",
       "      <th>129650</th>\n",
       "      <td>27</td>\n",
       "      <td>here</td>\n",
       "    </tr>\n",
       "    <tr>\n",
       "      <th>129651</th>\n",
       "      <td>28</td>\n",
       "      <td>with</td>\n",
       "    </tr>\n",
       "    <tr>\n",
       "      <th>129652</th>\n",
       "      <td>29</td>\n",
       "      <td>us</td>\n",
       "    </tr>\n",
       "    <tr>\n",
       "      <th>129653</th>\n",
       "      <td>30</td>\n",
       "      <td>.</td>\n",
       "    </tr>\n",
       "  </tbody>\n",
       "</table>\n",
       "<p>129654 rows × 2 columns</p>\n",
       "</div>"
      ],
      "text/plain": [
       "        index         word\n",
       "0           1  Influential\n",
       "1           2      members\n",
       "2           3           of\n",
       "3           4          the\n",
       "4           5        House\n",
       "...       ...          ...\n",
       "129649     26         them\n",
       "129650     27         here\n",
       "129651     28         with\n",
       "129652     29           us\n",
       "129653     30            .\n",
       "\n",
       "[129654 rows x 2 columns]"
      ]
     },
     "execution_count": 139,
     "metadata": {},
     "output_type": "execute_result"
    }
   ],
   "source": [
    "test = pd.read_csv('/Users/William/Downloads/natural-language-processing/Hidden_Markov_Model/data/test',sep='\\t',names=[\"index\",\"word\"])\n",
    "test"
   ]
  },
  {
   "cell_type": "code",
   "execution_count": 140,
   "id": "15d14945",
   "metadata": {},
   "outputs": [],
   "source": [
    "word_test_data = []\n",
    "test_words=test[\"word\"].values.tolist()\n",
    "test_index = test[\"index\"].values.tolist()\n",
    "test_words_true=[]\n",
    "for i in range(len(test)-1):\n",
    "    if test_index[i]< test_index[i+1]:\n",
    "        word_test_data.append(test_words[i])\n",
    "    else:\n",
    "        word_test_data.append(test_words[i])\n",
    "        test_words_true.append(word_test_data)\n",
    "        word_test_data =[]"
   ]
  },
  {
   "cell_type": "code",
   "execution_count": 141,
   "id": "e733bf57",
   "metadata": {},
   "outputs": [],
   "source": [
    "test_words_true.append(test_words[-30:])"
   ]
  },
  {
   "cell_type": "code",
   "execution_count": 142,
   "id": "301ffb26",
   "metadata": {},
   "outputs": [
    {
     "data": {
      "text/plain": [
       "5462"
      ]
     },
     "execution_count": 142,
     "metadata": {},
     "output_type": "execute_result"
    }
   ],
   "source": [
    "len(test_words_true)"
   ]
  },
  {
   "cell_type": "code",
   "execution_count": 143,
   "id": "d6d381cf",
   "metadata": {},
   "outputs": [
    {
     "data": {
      "text/plain": [
       "['``',\n",
       " 'We',\n",
       " 'want',\n",
       " 'to',\n",
       " 'see',\n",
       " 'Nelson',\n",
       " 'Mandela',\n",
       " 'and',\n",
       " 'all',\n",
       " 'our',\n",
       " 'comrades',\n",
       " 'out',\n",
       " 'of',\n",
       " 'prison',\n",
       " ',',\n",
       " 'and',\n",
       " 'if',\n",
       " 'we',\n",
       " 'are',\n",
       " \"n't\",\n",
       " 'disciplined',\n",
       " 'we',\n",
       " 'may',\n",
       " 'not',\n",
       " 'see',\n",
       " 'them',\n",
       " 'here',\n",
       " 'with',\n",
       " 'us',\n",
       " '.']"
      ]
     },
     "execution_count": 143,
     "metadata": {},
     "output_type": "execute_result"
    }
   ],
   "source": [
    "test_words[-30:]"
   ]
  },
  {
   "cell_type": "code",
   "execution_count": 144,
   "id": "b069bd2c",
   "metadata": {},
   "outputs": [],
   "source": [
    "tag_pred_test =[]\n",
    "for i in test_words_true:\n",
    "    tag_pred_test.append(greedy(i))\n",
    "#tag_pred_test"
   ]
  },
  {
   "cell_type": "code",
   "execution_count": 145,
   "id": "6b4e2085",
   "metadata": {},
   "outputs": [],
   "source": [
    "#test_words_true"
   ]
  },
  {
   "cell_type": "code",
   "execution_count": 146,
   "id": "77107bac",
   "metadata": {},
   "outputs": [],
   "source": [
    "# make the word and tags into list of tuples\n",
    "wl = []\n",
    "for t in test_words_true:\n",
    "    q= 1\n",
    "    for i in t:\n",
    "        wl.append((i,q))\n",
    "        q+=1\n",
    "tl =[]\n",
    "for t in tag_pred_test:\n",
    "    q= 1\n",
    "    for i in t:\n",
    "        tl.append((i,q))\n",
    "        q+=1"
   ]
  },
  {
   "cell_type": "code",
   "execution_count": 147,
   "id": "0ef03f31",
   "metadata": {},
   "outputs": [],
   "source": [
    "wll= pd.DataFrame(wl,columns = [\"word\",\"index\"])\n",
    "tll = pd.DataFrame(tl,columns = [\"tag\",\"index2\"])"
   ]
  },
  {
   "cell_type": "code",
   "execution_count": 148,
   "id": "ce8fc11a",
   "metadata": {},
   "outputs": [
    {
     "data": {
      "text/plain": [
       "5462"
      ]
     },
     "execution_count": 148,
     "metadata": {},
     "output_type": "execute_result"
    }
   ],
   "source": [
    "len(test_words_true)"
   ]
  },
  {
   "cell_type": "code",
   "execution_count": 149,
   "id": "1046c873",
   "metadata": {
    "scrolled": false
   },
   "outputs": [
    {
     "data": {
      "text/html": [
       "<div>\n",
       "<style scoped>\n",
       "    .dataframe tbody tr th:only-of-type {\n",
       "        vertical-align: middle;\n",
       "    }\n",
       "\n",
       "    .dataframe tbody tr th {\n",
       "        vertical-align: top;\n",
       "    }\n",
       "\n",
       "    .dataframe thead th {\n",
       "        text-align: right;\n",
       "    }\n",
       "</style>\n",
       "<table border=\"1\" class=\"dataframe\">\n",
       "  <thead>\n",
       "    <tr style=\"text-align: right;\">\n",
       "      <th></th>\n",
       "      <th>index</th>\n",
       "      <th>word</th>\n",
       "      <th>tag</th>\n",
       "    </tr>\n",
       "  </thead>\n",
       "  <tbody>\n",
       "    <tr>\n",
       "      <th>0</th>\n",
       "      <td>1</td>\n",
       "      <td>&lt;unk&gt;</td>\n",
       "      <td>NNP</td>\n",
       "    </tr>\n",
       "    <tr>\n",
       "      <th>1</th>\n",
       "      <td>2</td>\n",
       "      <td>members</td>\n",
       "      <td>NNS</td>\n",
       "    </tr>\n",
       "    <tr>\n",
       "      <th>2</th>\n",
       "      <td>3</td>\n",
       "      <td>of</td>\n",
       "      <td>IN</td>\n",
       "    </tr>\n",
       "    <tr>\n",
       "      <th>3</th>\n",
       "      <td>4</td>\n",
       "      <td>the</td>\n",
       "      <td>DT</td>\n",
       "    </tr>\n",
       "    <tr>\n",
       "      <th>4</th>\n",
       "      <td>5</td>\n",
       "      <td>House</td>\n",
       "      <td>NNP</td>\n",
       "    </tr>\n",
       "    <tr>\n",
       "      <th>...</th>\n",
       "      <td>...</td>\n",
       "      <td>...</td>\n",
       "      <td>...</td>\n",
       "    </tr>\n",
       "    <tr>\n",
       "      <th>129649</th>\n",
       "      <td>26</td>\n",
       "      <td>them</td>\n",
       "      <td>PRP</td>\n",
       "    </tr>\n",
       "    <tr>\n",
       "      <th>129650</th>\n",
       "      <td>27</td>\n",
       "      <td>here</td>\n",
       "      <td>RB</td>\n",
       "    </tr>\n",
       "    <tr>\n",
       "      <th>129651</th>\n",
       "      <td>28</td>\n",
       "      <td>with</td>\n",
       "      <td>IN</td>\n",
       "    </tr>\n",
       "    <tr>\n",
       "      <th>129652</th>\n",
       "      <td>29</td>\n",
       "      <td>us</td>\n",
       "      <td>PRP</td>\n",
       "    </tr>\n",
       "    <tr>\n",
       "      <th>129653</th>\n",
       "      <td>30</td>\n",
       "      <td>.</td>\n",
       "      <td>.</td>\n",
       "    </tr>\n",
       "  </tbody>\n",
       "</table>\n",
       "<p>129654 rows × 3 columns</p>\n",
       "</div>"
      ],
      "text/plain": [
       "        index     word  tag\n",
       "0           1    <unk>  NNP\n",
       "1           2  members  NNS\n",
       "2           3       of   IN\n",
       "3           4      the   DT\n",
       "4           5    House  NNP\n",
       "...       ...      ...  ...\n",
       "129649     26     them  PRP\n",
       "129650     27     here   RB\n",
       "129651     28     with   IN\n",
       "129652     29       us  PRP\n",
       "129653     30        .    .\n",
       "\n",
       "[129654 rows x 3 columns]"
      ]
     },
     "execution_count": 149,
     "metadata": {},
     "output_type": "execute_result"
    }
   ],
   "source": [
    "greedy_df = pd.concat([wll,tll],axis=1)\n",
    "greedy_df = greedy_df.drop('index2', axis=1)\n",
    "first_column = greedy_df.pop('index')\n",
    "greedy_df.insert(0, 'index', first_column)\n",
    "greedy_df"
   ]
  },
  {
   "cell_type": "code",
   "execution_count": 150,
   "id": "03e4652e",
   "metadata": {},
   "outputs": [
    {
     "name": "stdout",
     "output_type": "stream",
     "text": [
      "success\n"
     ]
    }
   ],
   "source": [
    "greedy_df.to_csv(\"greedy.csv\",index=False)\n",
    "np.savetxt('/Users/William/Downloads/natural-language-processing/Hidden_Markov_Model/data/greedy.out', greedy_df, delimiter='\\t',fmt='%s', comments='', encoding=None)\n",
    "print(\"success\")"
   ]
  },
  {
   "cell_type": "code",
   "execution_count": 151,
   "id": "303d5869",
   "metadata": {},
   "outputs": [
    {
     "name": "stdout",
     "output_type": "stream",
     "text": [
      "correct now!\n"
     ]
    }
   ],
   "source": [
    "# add this part for the resubmission\n",
    "fnameg = \"/Users/William/Downloads/natural-language-processing/Hidden_Markov_Model/data/greedy.out\"\n",
    "with open(fnameg, 'r') as fg:\n",
    "    datag = [line for line in fg]\n",
    "with open(fnameg, 'w') as fileg:\n",
    "    for line in datag:\n",
    "        # make sure we add a line for each sentence. \n",
    "        if line[0]==\"1\" and line[1]==\"\\t\":\n",
    "            fileg.write(\"\\n\")\n",
    "            fileg.write(line)\n",
    "        else:\n",
    "            fileg.write(line)\n",
    "with open(fnameg, 'r') as f2g:\n",
    "    data22g = [line for line in f2g]\n",
    "# make sure the first line is not empty\n",
    "with open(fnameg, 'w') as foutg:\n",
    "    foutg.writelines(data22g[1:])\n",
    "print(\"correct now!\")"
   ]
  },
  {
   "cell_type": "markdown",
   "id": "7a09a8a2",
   "metadata": {},
   "source": [
    "# Please execute both TWO cells above to get the correct format."
   ]
  },
  {
   "cell_type": "markdown",
   "id": "e7e24529",
   "metadata": {},
   "source": [
    "### Task 4: Viterbi Decoding with HMM"
   ]
  },
  {
   "cell_type": "code",
   "execution_count": 105,
   "id": "20ff5bc6",
   "metadata": {},
   "outputs": [],
   "source": [
    "def viterbi(stnce):\n",
    "    if stnce[0] not in frequent:\n",
    "        stnce[0] = '<unk>'\n",
    "    # create dictionaries to store cumulative prbabilities of a position of a tag\n",
    "    TAG = {}\n",
    "    # create a dictionary to know which tag leads to the max cumulative probability\n",
    "    last_TAG = {}\n",
    "    for i in range(len(stnce)):\n",
    "        TAG[i] = {}\n",
    "        last_TAG[i] = {}\n",
    "        \n",
    "    # for the first position cumulative probability \n",
    "    for t in tag_list:\n",
    "        if '('+t + '~' + '<s>'+')' in transition:\n",
    "            try:\n",
    "                TAG[0][t] = transition['('+t + '~' + '<s>'+')'] * emission['('+stnce[0] + '~' + t+')']\n",
    "            except:\n",
    "                TAG[0][t] = 0\n",
    "                \n",
    "    # make sure we have a start tag at the beginning\n",
    "    # reference: https://www.w3schools.com/python/python_dictionaries_access.asp and help from peers\n",
    "    keysss = TAG[0].keys()\n",
    "    for t in keysss:\n",
    "        last_TAG[0][t] = '<s>'\n",
    "    \n",
    "    # continue find cumulartive probabilities\n",
    "    for i in range(1, len(stnce)):\n",
    "        if stnce[i] not in frequent:\n",
    "            stnce[i] = '<unk>'\n",
    "            \n",
    "    for i in range(1, len(stnce)):\n",
    "        a = TAG[i-1].keys()\n",
    "        for t in a:\n",
    "            for wt in tag_list:\n",
    "                if '('+wt + '~' + t+')' in transition:\n",
    "                    if wt in TAG[i]:\n",
    "                        try:\n",
    "                            # some index may not exist so need to use try statement\n",
    "                            b = transition['('+wt + '~' + t+')']* TAG[i-1][t] * emission['('+stnce[i] + '~' + wt+')']\n",
    "                            if  b > TAG[i][wt]:\n",
    "                                TAG[i][wt] = b\n",
    "                                last_TAG[i][wt] = t\n",
    "                        except:\n",
    "                            pass\n",
    "                    else:\n",
    "                        # some index may not exist so need to use try statement\n",
    "                        try:\n",
    "                            TAG[i][wt] = transition['('+wt + '~' + t+')']* TAG[i-1][t] * emission['('+stnce[i] + '~' + wt+')']\n",
    "                            last_TAG[i][wt] = t\n",
    "                        except:\n",
    "                            TAG[i][wt] = 0\n",
    "\n",
    "    # backward propogation\n",
    "    TAG_pred = []\n",
    "    TAG_val_list = list(TAG[len(stnce)-1].values())\n",
    "    TAG_key_list = list(TAG[len(stnce)-1].keys())\n",
    "    # the highest probability is at the last word, loop backward for previous words\n",
    "    max_prob = max(TAG[len(stnce)-1].values()) # find the maximum\n",
    "    max_index = TAG_val_list.index(max_prob) # the index of the maximum\n",
    "    max_tag = TAG_key_list[max_index]\n",
    "    TAG_pred.append(max_tag)\n",
    "    \n",
    "    # iterate through pre_pos\n",
    "    for i in range(len(stnce)-1, 0, -1):\n",
    "        try:\n",
    "            max_tag = last_TAG[i][max_tag]\n",
    "            TAG_pred.append(max_tag)\n",
    "        except:\n",
    "            # some index/pairs does not exist\n",
    "            TAG_pred.append('unk')\n",
    "        \n",
    "    # TAG_pred is in reverse\n",
    "    TAG_pred_good = []\n",
    "    for i in range(len(TAG_pred)-1,-1,-1):\n",
    "        TAG_pred_good.append(TAG_pred[i])\n",
    "    return TAG_pred_good"
   ]
  },
  {
   "cell_type": "code",
   "execution_count": 106,
   "id": "1e942417",
   "metadata": {},
   "outputs": [],
   "source": [
    "# use viterbi to predict pos for dev\n",
    "viterbi_pred_dev = []\n",
    "for w in dev_word_true:\n",
    "    viterbi_pred_dev.append(viterbi(w))"
   ]
  },
  {
   "cell_type": "code",
   "execution_count": 107,
   "id": "7eecf889",
   "metadata": {},
   "outputs": [
    {
     "data": {
      "text/plain": [
       "5526"
      ]
     },
     "execution_count": 107,
     "metadata": {},
     "output_type": "execute_result"
    }
   ],
   "source": [
    "len(viterbi_pred_dev)"
   ]
  },
  {
   "cell_type": "code",
   "execution_count": 108,
   "id": "46c8c207",
   "metadata": {},
   "outputs": [],
   "source": [
    "viterbi_pred_dev= sum(viterbi_pred_dev, [])\n",
    "#viterbi_pred_dev"
   ]
  },
  {
   "cell_type": "code",
   "execution_count": 109,
   "id": "a804b3b6",
   "metadata": {
    "scrolled": true
   },
   "outputs": [
    {
     "name": "stdout",
     "output_type": "stream",
     "text": [
      "The accuracy score for viterbi decoding HMM is: 0.9436133312081123\n"
     ]
    }
   ],
   "source": [
    "accuracy_v = accuracy_score(tag_acc, viterbi_pred_dev)\n",
    "print(\"The accuracy score for viterbi decoding HMM is:\",accuracy_v)"
   ]
  },
  {
   "cell_type": "code",
   "execution_count": 110,
   "id": "4a5f59a7",
   "metadata": {},
   "outputs": [],
   "source": [
    "tag_pred_test_viterbi=[]\n",
    "for i in test_words_true:\n",
    "    tag_pred_test_viterbi.append(viterbi(i))\n",
    "#tag_pred_test_viterbi"
   ]
  },
  {
   "cell_type": "code",
   "execution_count": 111,
   "id": "7841152c",
   "metadata": {},
   "outputs": [],
   "source": [
    "vtl =[]\n",
    "for t in tag_pred_test_viterbi:\n",
    "    q= 1\n",
    "    for i in t:\n",
    "        vtl.append((i,q))\n",
    "        q+=1"
   ]
  },
  {
   "cell_type": "code",
   "execution_count": 112,
   "id": "0db69484",
   "metadata": {},
   "outputs": [],
   "source": [
    "vtll = pd.DataFrame(vtl,columns = [\"tag\",\"index3\"])"
   ]
  },
  {
   "cell_type": "code",
   "execution_count": 113,
   "id": "373ddd52",
   "metadata": {},
   "outputs": [
    {
     "data": {
      "text/html": [
       "<div>\n",
       "<style scoped>\n",
       "    .dataframe tbody tr th:only-of-type {\n",
       "        vertical-align: middle;\n",
       "    }\n",
       "\n",
       "    .dataframe tbody tr th {\n",
       "        vertical-align: top;\n",
       "    }\n",
       "\n",
       "    .dataframe thead th {\n",
       "        text-align: right;\n",
       "    }\n",
       "</style>\n",
       "<table border=\"1\" class=\"dataframe\">\n",
       "  <thead>\n",
       "    <tr style=\"text-align: right;\">\n",
       "      <th></th>\n",
       "      <th>index</th>\n",
       "      <th>word</th>\n",
       "      <th>tag</th>\n",
       "    </tr>\n",
       "  </thead>\n",
       "  <tbody>\n",
       "    <tr>\n",
       "      <th>0</th>\n",
       "      <td>1</td>\n",
       "      <td>&lt;unk&gt;</td>\n",
       "      <td>JJ</td>\n",
       "    </tr>\n",
       "    <tr>\n",
       "      <th>1</th>\n",
       "      <td>2</td>\n",
       "      <td>members</td>\n",
       "      <td>NNS</td>\n",
       "    </tr>\n",
       "    <tr>\n",
       "      <th>2</th>\n",
       "      <td>3</td>\n",
       "      <td>of</td>\n",
       "      <td>IN</td>\n",
       "    </tr>\n",
       "    <tr>\n",
       "      <th>3</th>\n",
       "      <td>4</td>\n",
       "      <td>the</td>\n",
       "      <td>DT</td>\n",
       "    </tr>\n",
       "    <tr>\n",
       "      <th>4</th>\n",
       "      <td>5</td>\n",
       "      <td>House</td>\n",
       "      <td>NNP</td>\n",
       "    </tr>\n",
       "    <tr>\n",
       "      <th>...</th>\n",
       "      <td>...</td>\n",
       "      <td>...</td>\n",
       "      <td>...</td>\n",
       "    </tr>\n",
       "    <tr>\n",
       "      <th>129649</th>\n",
       "      <td>26</td>\n",
       "      <td>them</td>\n",
       "      <td>PRP</td>\n",
       "    </tr>\n",
       "    <tr>\n",
       "      <th>129650</th>\n",
       "      <td>27</td>\n",
       "      <td>here</td>\n",
       "      <td>RB</td>\n",
       "    </tr>\n",
       "    <tr>\n",
       "      <th>129651</th>\n",
       "      <td>28</td>\n",
       "      <td>with</td>\n",
       "      <td>IN</td>\n",
       "    </tr>\n",
       "    <tr>\n",
       "      <th>129652</th>\n",
       "      <td>29</td>\n",
       "      <td>us</td>\n",
       "      <td>PRP</td>\n",
       "    </tr>\n",
       "    <tr>\n",
       "      <th>129653</th>\n",
       "      <td>30</td>\n",
       "      <td>.</td>\n",
       "      <td>.</td>\n",
       "    </tr>\n",
       "  </tbody>\n",
       "</table>\n",
       "<p>129654 rows × 3 columns</p>\n",
       "</div>"
      ],
      "text/plain": [
       "        index     word  tag\n",
       "0           1    <unk>   JJ\n",
       "1           2  members  NNS\n",
       "2           3       of   IN\n",
       "3           4      the   DT\n",
       "4           5    House  NNP\n",
       "...       ...      ...  ...\n",
       "129649     26     them  PRP\n",
       "129650     27     here   RB\n",
       "129651     28     with   IN\n",
       "129652     29       us  PRP\n",
       "129653     30        .    .\n",
       "\n",
       "[129654 rows x 3 columns]"
      ]
     },
     "execution_count": 113,
     "metadata": {},
     "output_type": "execute_result"
    }
   ],
   "source": [
    "viterbi_df = pd.concat([wll,vtll],axis=1)\n",
    "viterbi_df = viterbi_df.drop('index3', axis=1)\n",
    "first_column2 = viterbi_df.pop('index')\n",
    "viterbi_df.insert(0, 'index', first_column2)\n",
    "viterbi_df"
   ]
  },
  {
   "cell_type": "code",
   "execution_count": 114,
   "id": "a9533b97",
   "metadata": {},
   "outputs": [
    {
     "name": "stdout",
     "output_type": "stream",
     "text": [
      "success\n"
     ]
    }
   ],
   "source": [
    "viterbi_df.to_csv(\"viterbi_correct_format.csv\",index=False)\n",
    "np.savetxt('/Users/William/Downloads/natural-language-processing/Hidden_Markov_Model/data/viterbi.out', viterbi_df, delimiter='\\t', fmt='%s', comments='', encoding=None)\n",
    "print(\"success\")"
   ]
  },
  {
   "cell_type": "code",
   "execution_count": 115,
   "id": "2732c64e",
   "metadata": {},
   "outputs": [
    {
     "name": "stdout",
     "output_type": "stream",
     "text": [
      "correct now!\n"
     ]
    }
   ],
   "source": [
    "# add this part for resubmission\n",
    "fname = \"/Users/William/Downloads/natural-language-processing/Hidden_Markov_Model/data/viterbi.out\"\n",
    "with open(fname, 'r') as f:\n",
    "    data = [line for line in f]\n",
    "with open(fname, 'w') as file:\n",
    "    for line in data:\n",
    "        \n",
    "        # make sure we add a line for each sentence. \n",
    "        if line[0]==\"1\" and line[1]==\"\\t\":\n",
    "            file.write(\"\\n\")\n",
    "            file.write(line)\n",
    "        else:\n",
    "            file.write(line)\n",
    "# make sure the first line is not empty\n",
    "with open(fname, 'r') as f2:\n",
    "    data22 = [line for line in f2]\n",
    "with open(fname, 'w') as fout:\n",
    "    fout.writelines(data22[1:])\n",
    "print(\"correct now!\")"
   ]
  },
  {
   "cell_type": "markdown",
   "id": "de8571f1",
   "metadata": {},
   "source": [
    "# Please execute both TWO cells above to get the correct format."
   ]
  },
  {
   "cell_type": "code",
   "execution_count": null,
   "id": "da47d643",
   "metadata": {},
   "outputs": [],
   "source": []
  },
  {
   "cell_type": "code",
   "execution_count": null,
   "id": "54080588",
   "metadata": {},
   "outputs": [],
   "source": []
  },
  {
   "cell_type": "code",
   "execution_count": null,
   "id": "f226c802",
   "metadata": {},
   "outputs": [],
   "source": []
  },
  {
   "cell_type": "code",
   "execution_count": null,
   "id": "2c7b9a48",
   "metadata": {},
   "outputs": [],
   "source": []
  },
  {
   "cell_type": "code",
   "execution_count": null,
   "id": "7e4198c0",
   "metadata": {},
   "outputs": [],
   "source": []
  },
  {
   "cell_type": "code",
   "execution_count": null,
   "id": "4f8e2924",
   "metadata": {},
   "outputs": [],
   "source": []
  }
 ],
 "metadata": {
  "kernelspec": {
   "display_name": "Python 3 (ipykernel)",
   "language": "python",
   "name": "python3"
  },
  "language_info": {
   "codemirror_mode": {
    "name": "ipython",
    "version": 3
   },
   "file_extension": ".py",
   "mimetype": "text/x-python",
   "name": "python",
   "nbconvert_exporter": "python",
   "pygments_lexer": "ipython3",
   "version": "3.9.12"
  }
 },
 "nbformat": 4,
 "nbformat_minor": 5
}
